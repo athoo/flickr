{
 "metadata": {
  "name": "",
  "signature": "sha256:7bce547db97a585ecf2da6fd653ca463d324b65579316c5b69aa20817a291ddb"
 },
 "nbformat": 3,
 "nbformat_minor": 0,
 "worksheets": [
  {
   "cells": [
    {
     "cell_type": "code",
     "collapsed": false,
     "input": [
      "import flickrapi"
     ],
     "language": "python",
     "metadata": {},
     "outputs": [],
     "prompt_number": 26
    },
    {
     "cell_type": "code",
     "collapsed": false,
     "input": [
      "api_key = u'a1d88869dab6eac4056848acd41d0376'\n",
      "api_secret = u'185ff65976e1c007'"
     ],
     "language": "python",
     "metadata": {},
     "outputs": [],
     "prompt_number": 27
    },
    {
     "cell_type": "code",
     "collapsed": false,
     "input": [
      "task_name = \"best gift in christmas\""
     ],
     "language": "python",
     "metadata": {},
     "outputs": [],
     "prompt_number": 28
    },
    {
     "cell_type": "code",
     "collapsed": false,
     "input": [
      "flickr = flickrapi.FlickrAPI(api_key, api_secret, format='parsed-json')\n",
      "task_photos = flickr.photos.search(text=task_name)"
     ],
     "language": "python",
     "metadata": {},
     "outputs": [],
     "prompt_number": 42
    },
    {
     "cell_type": "code",
     "collapsed": false,
     "input": [
      "if task_photos['stat']=='ok':\n",
      "    print 'start session'\n",
      "    # here we should start the task\n",
      "else:\n",
      "    # you should give task again\n",
      "    PASS"
     ],
     "language": "python",
     "metadata": {},
     "outputs": [
      {
       "output_type": "stream",
       "stream": "stdout",
       "text": [
        "start session\n"
       ]
      }
     ],
     "prompt_number": 46
    },
    {
     "cell_type": "code",
     "collapsed": false,
     "input": [
      "https://farm{farm-id}.staticflickr.com/{server-id}/{id}_{secret}.jpg"
     ],
     "language": "python",
     "metadata": {},
     "outputs": []
    },
    {
     "cell_type": "code",
     "collapsed": false,
     "input": [
      "t=[]\n",
      "t.append(\"aa\")"
     ],
     "language": "python",
     "metadata": {},
     "outputs": [],
     "prompt_number": 64
    },
    {
     "cell_type": "code",
     "collapsed": false,
     "input": [
      "t"
     ],
     "language": "python",
     "metadata": {},
     "outputs": [
      {
       "metadata": {},
       "output_type": "pyout",
       "prompt_number": 65,
       "text": [
        "['aa']"
       ]
      }
     ],
     "prompt_number": 65
    },
    {
     "cell_type": "code",
     "collapsed": false,
     "input": [
      "img_urls = []"
     ],
     "language": "python",
     "metadata": {},
     "outputs": [],
     "prompt_number": 95
    },
    {
     "cell_type": "code",
     "collapsed": false,
     "input": [
      "print type(img_urls)\n",
      "for item in task_photos['photos']['photo'][:10]:\n",
      "    farm_id = item['farm']\n",
      "    server_id = item['server']\n",
      "    pic_id = item['id']\n",
      "    tags = flickr.tags.getListPhoto(photo_id=pic_id)\n",
      "    tag_list = []\n",
      "    for tag in tags['photo']['tags']['tag']:\n",
      "        tag_list.append(tag['_content'])\n",
      "    secret = item['secret']\n",
      "    url = \"https://farm{}.staticflickr.com/{}/{}_{}.jpg\".format(farm_id,server_id,pic_id,secret)\n",
      "    img_urls.append(tuple([url,tag_list]))"
     ],
     "language": "python",
     "metadata": {},
     "outputs": [
      {
       "output_type": "stream",
       "stream": "stdout",
       "text": [
        "<type 'list'>\n"
       ]
      }
     ],
     "prompt_number": 96
    },
    {
     "cell_type": "code",
     "collapsed": false,
     "input": [
      "print img_urls"
     ],
     "language": "python",
     "metadata": {},
     "outputs": [
      {
       "output_type": "stream",
       "stream": "stdout",
       "text": [
        "[('https://farm9.staticflickr.com/8598/16158485257_624c3622c1.jpg', [u'lindenlab', u'secondlife', u'firestorm', u'secondlife:region=alohasunsetbeach', u'secondlife:x=200', u'secondlife:y=241', u'secondlife:z=21', u'secondlife:parcel=cantripdesavorlittlebranch', u'secondlife:globalx=238280', u'secondlife:globaly=284145', u'secondlife:globalz=209578']), ('https://farm9.staticflickr.com/8591/15723696103_d20cabbf37.jpg', []), ('https://farm8.staticflickr.com/7483/16341940491_da37da86af.jpg', [u'instagramapp', u'square', u'squareformat', u'iphoneography', u'uploaded:by=instagram', u'sierra']), ('https://farm8.staticflickr.com/7489/16153924658_b7a7803dc5.jpg', [u'mulan', u'disneymulan', u'mulandoll']), ('https://farm8.staticflickr.com/7580/15718823034_b95cc6fcd3.jpg', [u'mulan', u'disneymulan', u'mulandoll']), ('https://farm8.staticflickr.com/7222/7157349247_192ce87664.jpg', [u'melford', u'longmelford', u'suffolk', u'eastanglia', u'church', u'christmas', u'nativity', u'bethlehem', u'stable', u'bible', u'xmas', u'wisemen', u'three', u'mary', u'joseph', u'wife', u'husband', u'holyfamily', u'midwife', u'callthemidwife', u'baby', u'jesus', u'christ', u'born', u'naked', u'wrapped', u'swaddling', u'bands', u'clothes', u'emmanuel', u'godwithus', u'father', u'mother', u'son', u'daughter', u'sister', u'brother', u'king', u'persia', u'ancient', u'israel', u'manger', u'noroomattheinn', u'cumdeusnobis', u'cattle', u'horses', u'cows', u'sheep', u'cocks', u'hens', u'lambs', u'calves', u'foals', u'mare', u'stallion', u'camels', u'stablesobare', u'christusnatusest', u'et', u'ethomofactumest', u'birth', u'frankincense', u'myrrh', u'gold', u'balthasar', u'caspar', u'melchior', u'breast', u'milk', u'suckle', u'infant', u'crown']), ('https://farm9.staticflickr.com/8587/16330464212_c29df0338f.jpg', [u'crossdress', u'tg', u'tgirl', u'lycra', u'spandex', u'wetlook', u'metallic', u'minidress', u'lace', u'stretchlace', u'shrug', u'jacket', u'pantyhose', u'pumps', u'peeptoepumps', u'opentoepumps', u'highheels', u'stilettopumps', u'platformpumps', u'stilettoheels', u'sexypumps', u'stilettos', u's']), ('https://farm8.staticflickr.com/7468/16330676775_dd189eabd2.jpg', []), ('https://farm8.staticflickr.com/7488/16330676865_98a3db2c4d.jpg', []), ('https://farm8.staticflickr.com/7567/16144731117_f7a6715e2c.jpg', [])]\n"
       ]
      }
     ],
     "prompt_number": 97
    },
    {
     "cell_type": "code",
     "collapsed": false,
     "input": [
      "from IPython.display import Image"
     ],
     "language": "python",
     "metadata": {},
     "outputs": [],
     "prompt_number": 70
    },
    {
     "cell_type": "code",
     "collapsed": false,
     "input": [
      "Image(url=img_urls[1])"
     ],
     "language": "python",
     "metadata": {},
     "outputs": [
      {
       "html": [
        "<img src=\"https://farm9.staticflickr.com/8591/15723696103_d20cabbf37.jpg\"/>"
       ],
       "metadata": {},
       "output_type": "pyout",
       "prompt_number": 73,
       "text": [
        "<IPython.core.display.Image at 0x10e55db10>"
       ]
      }
     ],
     "prompt_number": 73
    },
    {
     "cell_type": "code",
     "collapsed": false,
     "input": [
      "tag = flickr.tags.getListPhoto(photo_id=16316594486)"
     ],
     "language": "python",
     "metadata": {},
     "outputs": [],
     "prompt_number": 74
    },
    {
     "cell_type": "code",
     "collapsed": false,
     "input": [],
     "language": "python",
     "metadata": {},
     "outputs": []
    },
    {
     "cell_type": "code",
     "collapsed": false,
     "input": [
      "\n",
      "for tag in tag['photo'][\"tags\"][\"tag\"]:\n",
      "    print tag['_content']"
     ],
     "language": "python",
     "metadata": {},
     "outputs": [
      {
       "output_type": "stream",
       "stream": "stdout",
       "text": [
        "newyorkcity\n",
        "lowermanhattan\n",
        "tributeinlight\n",
        "911\n",
        "september11\n",
        "skyscrapers\n",
        "cityscapes\n",
        "skyline\n"
       ]
      }
     ],
     "prompt_number": 84
    },
    {
     "cell_type": "code",
     "collapsed": false,
     "input": [
      "task_photos['photos']['total']"
     ],
     "language": "python",
     "metadata": {},
     "outputs": [
      {
       "metadata": {},
       "output_type": "pyout",
       "prompt_number": 54,
       "text": [
        "u'23145'"
       ]
      }
     ],
     "prompt_number": 54
    },
    {
     "cell_type": "code",
     "collapsed": false,
     "input": [
      "if 3==3:\n",
      "    print \"yes\"\n",
      "else:\n",
      "    print \"sss\""
     ],
     "language": "python",
     "metadata": {},
     "outputs": [
      {
       "output_type": "stream",
       "stream": "stdout",
       "text": [
        "yes\n"
       ]
      }
     ],
     "prompt_number": 39
    },
    {
     "cell_type": "code",
     "collapsed": false,
     "input": [
      "flickr = flickrapi.FlickrAPI(api_key, api_secret, format='parsed-json')\n",
      "photos = flickr.photos.search(text=\"interesting dog\")\n",
      "print photos"
     ],
     "language": "python",
     "metadata": {},
     "outputs": [
      {
       "output_type": "stream",
       "stream": "stdout",
       "text": [
        "{u'photos': {u'total': u'73939', u'photo': [{u'isfamily': 0, u'title': u'TURDucken', u'farm': 8, u'ispublic': 1, u'server': u'7497', u'isfriend': 0, u'secret': u'ec5d8f2e4f', u'owner': u'30894058@N03', u'id': u'16159662787'}, {u'isfamily': 0, u'title': u'Making Tracks', u'farm': 8, u'ispublic': 1, u'server': u'7487', u'isfriend': 0, u'secret': u'98638ee871', u'owner': u'60892714@N00', u'id': u'15722463014'}, {u'isfamily': 0, u'title': u'Patriotic hot dog acting in its own worst interests.', u'farm': 9, u'ispublic': 1, u'server': u'8611', u'isfriend': 0, u'secret': u'0fe178ccde', u'owner': u'65167088@N00', u'id': u'16343894742'}, {u'isfamily': 0, u'title': u'How To Wake Up A Dog', u'farm': 9, u'ispublic': 1, u'server': u'8658', u'isfriend': 0, u'secret': u'8166e83695', u'owner': u'113181945@N04', u'id': u'16158438309'}, {u'isfamily': 0, u'title': u\"Gifts from Gracie's Mom\", u'farm': 9, u'ispublic': 1, u'server': u'8612', u'isfriend': 0, u'secret': u'220514d5a7', u'owner': u'75885098@N05', u'id': u'16341240501'}, {u'isfamily': 0, u'title': u'Not interested.', u'farm': 8, u'ispublic': 1, u'server': u'7574', u'isfriend': 0, u'secret': u'6e8bf5f834', u'owner': u'37996593020@N01', u'id': u'16329097612'}, {u'isfamily': 0, u'title': u'...born free!', u'farm': 8, u'ispublic': 1, u'server': u'7529', u'isfriend': 0, u'secret': u'bd0b2a4b61', u'owner': u'79458742@N03', u'id': u'15722613593'}, {u'isfamily': 0, u'title': u'ODC Pic w/n Pic 20150122-ODC0146-14-Edit', u'farm': 9, u'ispublic': 1, u'server': u'8673', u'isfriend': 0, u'secret': u'3d9f61fb5b', u'owner': u'46483622@N04', u'id': u'16342264915'}, {u'isfamily': 0, u'title': u'The Interior of the Buurkerk at Utrecht', u'farm': 8, u'ispublic': 1, u'server': u'7542', u'isfriend': 0, u'secret': u'db7f36a0b4', u'owner': u'130574000@N04', u'id': u'16341110372'}, {u'isfamily': 0, u'title': u'The Dog\\u2019s Eyes Though', u'farm': 8, u'ispublic': 1, u'server': u'7520', u'isfriend': 0, u'secret': u'5381904969', u'owner': u'113181945@N04', u'id': u'15719122054'}, {u'isfamily': 0, u'title': u'eager bull', u'farm': 9, u'ispublic': 1, u'server': u'8601', u'isfriend': 0, u'secret': u'3457322df5', u'owner': u'49638038@N03', u'id': u'16341473765'}, {u'isfamily': 0, u'title': u'Equal Rights For Dogs Too', u'farm': 8, u'ispublic': 1, u'server': u'7513', u'isfriend': 0, u'secret': u'fdc9932b19', u'owner': u'113181945@N04', u'id': u'16153481960'}, {u'isfamily': 0, u'title': u'The Passing', u'farm': 8, u'ispublic': 1, u'server': u'7514', u'isfriend': 0, u'secret': u'83ae020892', u'owner': u'75449862@N05', u'id': u'16153666499'}, {u'isfamily': 0, u'title': u\"This is weird. There isn't a pup in my lap. Or in this room. Or on this floor of the house. Shane has a friend over and they must be super interesting because both dogs are downstairs with them. I am watching a horrible movie and working on my #thepluckyk\", u'farm': 8, u'ispublic': 1, u'server': u'7472', u'isfriend': 0, u'secret': u'd3e4e8d6cd', u'owner': u'11309304@N07', u'id': u'16151445109'}, {u'isfamily': 0, u'title': u'She\\u2019s Starting To Experience Real Life', u'farm': 8, u'ispublic': 1, u'server': u'7508', u'isfriend': 0, u'secret': u'e065271ce5', u'owner': u'113181945@N04', u'id': u'16149858440'}, {u'isfamily': 0, u'title': u'The Tin Man', u'farm': 9, u'ispublic': 1, u'server': u'8577', u'isfriend': 0, u'secret': u'8e90559d96', u'owner': u'38271815@N02', u'id': u'16311133806'}, {u'isfamily': 0, u'title': u'Alien 2 and 3', u'farm': 9, u'ispublic': 1, u'server': u'8622', u'isfriend': 0, u'secret': u'b6628b83bf', u'owner': u'74529773@N07', u'id': u'15714647844'}, {u'isfamily': 0, u'title': u'Happy mail from down under. Thanks so much! @67kirsten I love it all!  The AMH mini  is fantastic!  I will get it hung this week.  The pincushion/sewing caddy fits perfectly on the side of my machine and our dogs show no interest in it so it may be the fi', u'farm': 9, u'ispublic': 1, u'server': u'8643', u'isfriend': 0, u'secret': u'2fd95755b7', u'owner': u'69469499@N04', u'id': u'16335866642'}, {u'isfamily': 0, u'title': u'Interest', u'farm': 8, u'ispublic': 1, u'server': u'7514', u'isfriend': 0, u'secret': u'22c99245e9', u'owner': u'95269508@N02', u'id': u'15716798213'}, {u'isfamily': 0, u'title': u'Gracie showing great interest', u'farm': 8, u'ispublic': 1, u'server': u'7499', u'isfriend': 0, u'secret': u'7a34b87ef9', u'owner': u'14904436@N00', u'id': u'16150663917'}, {u'isfamily': 0, u'title': u'1/365 - Chip, my shitty dog.', u'farm': 8, u'ispublic': 1, u'server': u'7480', u'isfriend': 0, u'secret': u'0d67ac8620', u'owner': u'95661208@N04', u'id': u'15716272743'}, {u'isfamily': 0, u'title': u'Just Don\\u2019t Feed It After Midnight', u'farm': 9, u'ispublic': 1, u'server': u'8569', u'isfriend': 0, u'secret': u'd618615871', u'owner': u'113181945@N04', u'id': u'16336154455'}, {u'isfamily': 0, u'title': u'Did Someone Microwave Him?', u'farm': 8, u'ispublic': 1, u'server': u'7466', u'isfriend': 0, u'secret': u'a7a771f5d6', u'owner': u'113181945@N04', u'id': u'16334509832'}, {u'isfamily': 0, u'title': u'Major Dog To Ground Control', u'farm': 9, u'ispublic': 1, u'server': u'8607', u'isfriend': 0, u'secret': u'c0a935ac2a', u'owner': u'113181945@N04', u'id': u'16333633652'}, {u'isfamily': 0, u'title': u'Anais@Namba', u'farm': 6, u'ispublic': 1, u'server': u'5178', u'isfriend': 0, u'secret': u'ea54439ce5', u'owner': u'22636309@N06', u'id': u'5478098441'}, {u'isfamily': 0, u'title': u'Morning Walk', u'farm': 8, u'ispublic': 1, u'server': u'7572', u'isfriend': 0, u'secret': u'ec52b17c6f', u'owner': u'12463666@N03', u'id': u'16147936787'}, {u'isfamily': 0, u'title': u'Immortality', u'farm': 8, u'ispublic': 1, u'server': u'7505', u'isfriend': 0, u'secret': u'4d74769417', u'owner': u'75449862@N05', u'id': u'16331617861'}, {u'isfamily': 0, u'title': u'Ecc 03 - Sc02 - Kill, heal, tear down, build', u'farm': 8, u'ispublic': 1, u'server': u'7574', u'isfriend': 0, u'secret': u'01f9bf1398', u'owner': u'38409976@N03', u'id': u'16147141959'}, {u'isfamily': 0, u'title': u\"Day 21 - #365 - 21/01/15 Whilst out on a walk this morning with Ann-Marie and her dog, we considered walking across this log to cross the stream, and then didn't. That was interesting wasn't it.\", u'farm': 8, u'ispublic': 1, u'server': u'7523', u'isfriend': 0, u'secret': u'f5089b03f0', u'owner': u'73366084@N00', u'id': u'16306986346'}, {u'isfamily': 0, u'title': u'Nobody loves me any more, not even my mate Jack. All he is interested in is food! P1310985', u'farm': 9, u'ispublic': 1, u'server': u'8638', u'isfriend': 0, u'secret': u'e720e49eb0', u'owner': u'22513624@N08', u'id': u'15712772523'}, {u'isfamily': 0, u'title': u'Wee boy playing football on the beach, the dog had lost interest lol..', u'farm': 9, u'ispublic': 1, u'server': u'8634', u'isfriend': 0, u'secret': u'17800074d9', u'owner': u'123646012@N06', u'id': u'16145076530'}, {u'isfamily': 0, u'title': u'Humor funny most interesting dog world dancing', u'farm': 8, u'ispublic': 1, u'server': u'7501', u'isfriend': 0, u'secret': u'1678d05d89', u'owner': u'119848705@N07', u'id': u'16144573420'}, {u'isfamily': 0, u'title': u'Things To Avoid When Dealing With Payday Cash Advances', u'farm': 8, u'ispublic': 1, u'server': u'7477', u'isfriend': 0, u'secret': u'4d8ed08469', u'owner': u'128552413@N05', u'id': u'16145533729'}, {u'isfamily': 0, u'title': u\"Abraham Lincoln's dog, Fido, was assassinated too. #didyouknow #fact #interesting\", u'farm': 8, u'ispublic': 1, u'server': u'7564', u'isfriend': 0, u'secret': u'a1126cbf8d', u'owner': u'116107207@N03', u'id': u'15711077393'}, {u'isfamily': 0, u'title': u'Dogs Breakfast.', u'farm': 9, u'ispublic': 1, u'server': u'8667', u'isfriend': 0, u'secret': u'29f17d08b7', u'owner': u'62709400@N08', u'id': u'16329704115'}, {u'isfamily': 0, u'title': u'004 / 100 Cory (and Scamp)-01', u'farm': 8, u'ispublic': 1, u'server': u'7495', u'isfriend': 0, u'secret': u'7c643a8159', u'owner': u'130320491@N04', u'id': u'15709809683'}, {u'isfamily': 0, u'title': u\"It's so cold that even the dogs are wearing a coat\", u'farm': 8, u'ispublic': 1, u'server': u'7570', u'isfriend': 0, u'secret': u'bb02385ca8', u'owner': u'72098626@N00', u'id': u'15707030104'}, {u'isfamily': 0, u'title': u'4/52 Lacey', u'farm': 8, u'ispublic': 1, u'server': u'7580', u'isfriend': 0, u'secret': u'b31d22e1d4', u'owner': u'66918575@N03', u'id': u'16328008772'}, {u'isfamily': 0, u'title': u'Mixed Media Poodle 1A', u'farm': 8, u'ispublic': 1, u'server': u'7462', u'isfriend': 0, u'secret': u'd81f2492d8', u'owner': u'76274635@N02', u'id': u'15706363934'}, {u'isfamily': 0, u'title': u'2 LIONESSES', u'farm': 9, u'ispublic': 1, u'server': u'8620', u'isfriend': 0, u'secret': u'b20f0988d4', u'owner': u'111348890@N03', u'id': u'16141025860'}, {u'isfamily': 0, u'title': u'RED RIVER HOG', u'farm': 9, u'ispublic': 1, u'server': u'8568', u'isfriend': 0, u'secret': u'e315304fb0', u'owner': u'111348890@N03', u'id': u'16327434732'}, {u'isfamily': 0, u'title': u\"#catdogpics These beautiful furry friends and others needs a 4ever home. If anyone is interested, they're located in Southern California/Orange County. You can contact @catdogpics  #pets #adoption #southern #California #@catdogspics #cats #dogs #other #fu\", u'farm': 8, u'ispublic': 1, u'server': u'7464', u'isfriend': 0, u'secret': u'bc0b96845b', u'owner': u'41488836@N08', u'id': u'16142184587'}, {u'isfamily': 0, u'title': u'2015-01-120 Maggie', u'farm': 8, u'ispublic': 1, u'server': u'7470', u'isfriend': 0, u'secret': u'72a57a70bd', u'owner': u'46483622@N04', u'id': u'16327488545'}, {u'isfamily': 0, u'title': u'It worked last time', u'farm': 8, u'ispublic': 1, u'server': u'7504', u'isfriend': 0, u'secret': u'ea056a1ddc', u'owner': u'16153376@N02', u'id': u'16301353536'}, {u'isfamily': 0, u'title': u'IMG_3563', u'farm': 8, u'ispublic': 1, u'server': u'7470', u'isfriend': 0, u'secret': u'151305e6d6', u'owner': u'95886144@N04', u'id': u'16324510001'}, {u'isfamily': 0, u'title': u'Feels Like This Guy Will Mug You', u'farm': 8, u'ispublic': 1, u'server': u'7470', u'isfriend': 0, u'secret': u'15a417729f', u'owner': u'113181945@N04', u'id': u'16139726379'}, {u'isfamily': 0, u'title': u'PONTORMO, Jacopo - Vertumnus and Pomona', u'farm': 8, u'ispublic': 1, u'server': u'7512', u'isfriend': 0, u'secret': u'e371f44b9d', u'owner': u'130574000@N04', u'id': u'16323864371'}, {u'isfamily': 0, u'title': u'Robot cartoon character - I am Android.', u'farm': 8, u'ispublic': 1, u'server': u'7577', u'isfriend': 0, u'secret': u'33f065ec25', u'owner': u'41433484@N03', u'id': u'16324450052'}, {u'isfamily': 0, u'title': u'Robot cartoon character - I am Android.', u'farm': 9, u'ispublic': 1, u'server': u'8627', u'isfriend': 0, u'secret': u'ac76670e40', u'owner': u'41433484@N03', u'id': u'15705407473'}, {u'isfamily': 0, u'title': u'Robot cartoon character - I am Android.', u'farm': 8, u'ispublic': 1, u'server': u'7536', u'isfriend': 0, u'secret': u'582d9d9fa0', u'owner': u'41433484@N03', u'id': u'16137937650'}, {u'isfamily': 0, u'title': u'Robot cartoon character - I am Android.', u'farm': 8, u'ispublic': 1, u'server': u'7534', u'isfriend': 0, u'secret': u'e0f81c8eef', u'owner': u'41433484@N03', u'id': u'16323523091'}, {u'isfamily': 0, u'title': u'Robot cartoon character - I am Android.', u'farm': 8, u'ispublic': 1, u'server': u'7487', u'isfriend': 0, u'secret': u'a346d49a9d', u'owner': u'41433484@N03', u'id': u'16299366816'}, {u'isfamily': 0, u'title': u'Robot cartoon character - I am Android.', u'farm': 8, u'ispublic': 1, u'server': u'7583', u'isfriend': 0, u'secret': u'44caeed0e0', u'owner': u'41433484@N03', u'id': u'16325317575'}, {u'isfamily': 0, u'title': u'Robot cartoon character - I am Android.', u'farm': 9, u'ispublic': 1, u'server': u'8607', u'isfriend': 0, u'secret': u'34c495e026', u'owner': u'41433484@N03', u'id': u'16324450022'}, {u'isfamily': 0, u'title': u'Robot cartoon character - I am Android.', u'farm': 8, u'ispublic': 1, u'server': u'7473', u'isfriend': 0, u'secret': u'669da5d4c0', u'owner': u'41433484@N03', u'id': u'16323523201'}, {u'isfamily': 0, u'title': u'Robot cartoon character - I am Android.', u'farm': 9, u'ispublic': 1, u'server': u'8656', u'isfriend': 0, u'secret': u'844daeefa5', u'owner': u'41433484@N03', u'id': u'16323523241'}, {u'isfamily': 0, u'title': u'Robot cartoon character - I am Android.', u'farm': 8, u'ispublic': 1, u'server': u'7578', u'isfriend': 0, u'secret': u'a23b76c257', u'owner': u'41433484@N03', u'id': u'16323523161'}, {u'isfamily': 0, u'title': u'Robot cartoon character - I am Android.', u'farm': 8, u'ispublic': 1, u'server': u'7462', u'isfriend': 0, u'secret': u'fcef6f8a7b', u'owner': u'41433484@N03', u'id': u'16324449992'}, {u'isfamily': 0, u'title': u'Robot cartoon character - I am Android.', u'farm': 8, u'ispublic': 1, u'server': u'7531', u'isfriend': 0, u'secret': u'284048a7f8', u'owner': u'41433484@N03', u'id': u'16137750118'}, {u'isfamily': 0, u'title': u'Robot cartoon character - I am Android.', u'farm': 9, u'ispublic': 1, u'server': u'8583', u'isfriend': 0, u'secret': u'0b7377880d', u'owner': u'41433484@N03', u'id': u'16139105639'}, {u'isfamily': 0, u'title': u'Robot cartoon character - I am Android.', u'farm': 8, u'ispublic': 1, u'server': u'7579', u'isfriend': 0, u'secret': u'ab289fc385', u'owner': u'41433484@N03', u'id': u'15702888884'}, {u'isfamily': 0, u'title': u'Robot cartoon character - I am Android.', u'farm': 9, u'ispublic': 1, u'server': u'8656', u'isfriend': 0, u'secret': u'ce210f0d91', u'owner': u'41433484@N03', u'id': u'15705407513'}, {u'isfamily': 0, u'title': u'Robot cartoon character - I am Android.', u'farm': 8, u'ispublic': 1, u'server': u'7571', u'isfriend': 0, u'secret': u'b6de64cbde', u'owner': u'41433484@N03', u'id': u'16137937200'}, {u'isfamily': 0, u'title': u'Robot cartoon character - I am Android.', u'farm': 9, u'ispublic': 1, u'server': u'8680', u'isfriend': 0, u'secret': u'a5376aeab8', u'owner': u'41433484@N03', u'id': u'16323523361'}, {u'isfamily': 0, u'title': u'Robot cartoon character - I am Android.', u'farm': 8, u'ispublic': 1, u'server': u'7512', u'isfriend': 0, u'secret': u'2a50641415', u'owner': u'41433484@N03', u'id': u'16325317785'}, {u'isfamily': 0, u'title': u'Robot cartoon character - I am Android.', u'farm': 8, u'ispublic': 1, u'server': u'7517', u'isfriend': 0, u'secret': u'e149a882ec', u'owner': u'41433484@N03', u'id': u'15705407483'}, {u'isfamily': 0, u'title': u'Robot cartoon character - I am Android.', u'farm': 9, u'ispublic': 1, u'server': u'8659', u'isfriend': 0, u'secret': u'e666b1d17f', u'owner': u'41433484@N03', u'id': u'15705407843'}, {u'isfamily': 0, u'title': u'Robot cartoon character - I am Android.', u'farm': 9, u'ispublic': 1, u'server': u'8669', u'isfriend': 0, u'secret': u'fcd3277e55', u'owner': u'41433484@N03', u'id': u'16139435277'}, {u'isfamily': 0, u'title': u'Robot cartoon character - I am Android.', u'farm': 8, u'ispublic': 1, u'server': u'7506', u'isfriend': 0, u'secret': u'6d1f430829', u'owner': u'41433484@N03', u'id': u'16324449902'}, {u'isfamily': 0, u'title': u'Robot cartoon character - I am Android.', u'farm': 8, u'ispublic': 1, u'server': u'7553', u'isfriend': 0, u'secret': u'2ac6679b8d', u'owner': u'41433484@N03', u'id': u'16323523041'}, {u'isfamily': 0, u'title': u'Robot cartoon character - I am Android.', u'farm': 8, u'ispublic': 1, u'server': u'7521', u'isfriend': 0, u'secret': u'7d80b514ae', u'owner': u'41433484@N03', u'id': u'16137937460'}, {u'isfamily': 0, u'title': u'Robot cartoon character - I am Android.', u'farm': 9, u'ispublic': 1, u'server': u'8617', u'isfriend': 0, u'secret': u'7792a7a1ab', u'owner': u'41433484@N03', u'id': u'16139434877'}, {u'isfamily': 0, u'title': u'Robot cartoon character - I am Android.', u'farm': 8, u'ispublic': 1, u'server': u'7496', u'isfriend': 0, u'secret': u'31db2ef5dc', u'owner': u'41433484@N03', u'id': u'15702889374'}, {u'isfamily': 0, u'title': u'Robot cartoon character - I am Android.', u'farm': 9, u'ispublic': 1, u'server': u'8613', u'isfriend': 0, u'secret': u'd5aa77fbbc', u'owner': u'41433484@N03', u'id': u'16325317735'}, {u'isfamily': 0, u'title': u'Robot cartoon character - I am Android.', u'farm': 9, u'ispublic': 1, u'server': u'8624', u'isfriend': 0, u'secret': u'0e47622753', u'owner': u'41433484@N03', u'id': u'16324449492'}, {u'isfamily': 0, u'title': u'Robot cartoon character - I am Android.', u'farm': 8, u'ispublic': 1, u'server': u'7490', u'isfriend': 0, u'secret': u'f48919a218', u'owner': u'41433484@N03', u'id': u'16137937040'}, {u'isfamily': 0, u'title': u'Robot cartoon character - I am Android.', u'farm': 8, u'ispublic': 1, u'server': u'7554', u'isfriend': 0, u'secret': u'0310e9f267', u'owner': u'41433484@N03', u'id': u'16139105799'}, {u'isfamily': 0, u'title': u'Robot cartoon character - I am Android.', u'farm': 8, u'ispublic': 1, u'server': u'7515', u'isfriend': 0, u'secret': u'be0c87bbdb', u'owner': u'41433484@N03', u'id': u'15702888954'}, {u'isfamily': 0, u'title': u'Robot cartoon character - I am Android.', u'farm': 8, u'ispublic': 1, u'server': u'7520', u'isfriend': 0, u'secret': u'aa2b1663ac', u'owner': u'41433484@N03', u'id': u'16139434997'}, {u'isfamily': 0, u'title': u'Robot cartoon character - I am Android.', u'farm': 8, u'ispublic': 1, u'server': u'7569', u'isfriend': 0, u'secret': u'828bd094d6', u'owner': u'41433484@N03', u'id': u'16299366396'}, {u'isfamily': 0, u'title': u'Robot cartoon character - I am Android.', u'farm': 8, u'ispublic': 1, u'server': u'7482', u'isfriend': 0, u'secret': u'a410dfee9f', u'owner': u'41433484@N03', u'id': u'15702889164'}, {u'isfamily': 0, u'title': u'Robot cartoon character - I am Android.', u'farm': 9, u'ispublic': 1, u'server': u'8564', u'isfriend': 0, u'secret': u'34a1b23a05', u'owner': u'41433484@N03', u'id': u'15702889184'}, {u'isfamily': 0, u'title': u'Robot cartoon character - I am Android.', u'farm': 8, u'ispublic': 1, u'server': u'7577', u'isfriend': 0, u'secret': u'3afc637fd7', u'owner': u'41433484@N03', u'id': u'15702888854'}, {u'isfamily': 0, u'title': u'Robot cartoon character - I am Android.', u'farm': 8, u'ispublic': 1, u'server': u'7540', u'isfriend': 0, u'secret': u'108c46a5d5', u'owner': u'41433484@N03', u'id': u'16139106049'}, {u'isfamily': 0, u'title': u'Robot cartoon character - I am Android.', u'farm': 8, u'ispublic': 1, u'server': u'7568', u'isfriend': 0, u'secret': u'bbc2a694d1', u'owner': u'41433484@N03', u'id': u'16137750178'}, {u'isfamily': 0, u'title': u'Robot cartoon character - I am Android.', u'farm': 8, u'ispublic': 1, u'server': u'7583', u'isfriend': 0, u'secret': u'26d820d89c', u'owner': u'41433484@N03', u'id': u'15702889454'}, {u'isfamily': 0, u'title': u'Robot cartoon character - I am Android.', u'farm': 9, u'ispublic': 1, u'server': u'8681', u'isfriend': 0, u'secret': u'094a085bac', u'owner': u'41433484@N03', u'id': u'16324450062'}, {u'isfamily': 0, u'title': u'Robot cartoon character - I am Android.', u'farm': 8, u'ispublic': 1, u'server': u'7524', u'isfriend': 0, u'secret': u'b83ff42cb3', u'owner': u'41433484@N03', u'id': u'15705407423'}, {u'isfamily': 0, u'title': u'Robot cartoon character - I am Android.', u'farm': 8, u'ispublic': 1, u'server': u'7492', u'isfriend': 0, u'secret': u'e570ca70c1', u'owner': u'41433484@N03', u'id': u'16323522991'}, {u'isfamily': 0, u'title': u'The Shamrock Inn, Hartley NSW', u'farm': 8, u'ispublic': 1, u'server': u'7547', u'isfriend': 0, u'secret': u'2ff347e3e9', u'owner': u'44336021@N05', u'id': u'15705075133'}, {u'isfamily': 0, u'title': u\"My Dog is also interested in selfies but he doesn't smile why ?? I don't know he kiss me   #selfie #dog #my #Labrador #golden #newdelhi #india #ilovedogs #selfies #kiss #viplove #perfect #smile #please\", u'farm': 9, u'ispublic': 1, u'server': u'8608', u'isfriend': 0, u'secret': u'016b477c67', u'owner': u'51647481@N06', u'id': u'16298770676'}, {u'isfamily': 0, u'title': u'When I get home before my roommate does and I let his dogs out of their doggy prison.', u'farm': 8, u'ispublic': 1, u'server': u'7542', u'isfriend': 0, u'secret': u'5317665e98', u'owner': u'113181945@N04', u'id': u'16135687000'}, {u'isfamily': 0, u'title': u'Can you see me now?', u'farm': 9, u'ispublic': 1, u'server': u'8597', u'isfriend': 0, u'secret': u'1764af14c9', u'owner': u'13773319@N00', u'id': u'15702400793'}, {u'isfamily': 0, u'title': u'4/52/15 Winter Ralph', u'farm': 8, u'ispublic': 1, u'server': u'7525', u'isfriend': 0, u'secret': u'5ab83c834b', u'owner': u'13773319@N00', u'id': u'15702406583'}, {u'isfamily': 0, u'title': u'Day_017', u'farm': 8, u'ispublic': 1, u'server': u'7516', u'isfriend': 0, u'secret': u'589f24ac07', u'owner': u'28235510@N04', u'id': u'16135440819'}, {u'isfamily': 0, u'title': u'Dale #521', u'farm': 8, u'ispublic': 1, u'server': u'7464', u'isfriend': 0, u'secret': u'a3a416babd', u'owner': u'29563741@N08', u'id': u'16135450239'}, {u'isfamily': 0, u'title': u'Coyote', u'farm': 8, u'ispublic': 1, u'server': u'7492', u'isfriend': 0, u'secret': u'c8ef22f361', u'owner': u'71773285@N07', u'id': u'16338851055'}, {u'isfamily': 0, u'title': u'The coachman from Arosa - 2', u'farm': 8, u'ispublic': 1, u'server': u'7573', u'isfriend': 0, u'secret': u'2e5bbdf522', u'owner': u'50564229@N02', u'id': u'16148840967'}, {u'isfamily': 0, u'title': u'The coachman from Arosa - 1', u'farm': 9, u'ispublic': 1, u'server': u'8654', u'isfriend': 0, u'secret': u'bae005764a', u'owner': u'50564229@N02', u'id': u'16333854832'}, {u'isfamily': 0, u'title': u'Because I Could Not Stop For Death', u'farm': 9, u'ispublic': 1, u'server': u'8606', u'isfriend': 0, u'secret': u'ca75d184b3', u'owner': u'75449862@N05', u'id': u'16136877610'}], u'perpage': 100, u'page': 1, u'pages': 740}, u'stat': u'ok'}\n"
       ]
      }
     ],
     "prompt_number": 8
    },
    {
     "cell_type": "code",
     "collapsed": false,
     "input": [],
     "language": "python",
     "metadata": {},
     "outputs": []
    },
    {
     "cell_type": "code",
     "collapsed": false,
     "input": [
      "https://farm8.staticflickr.com/7497/16159662787_ec5d8f2e4f.jpg"
     ],
     "language": "python",
     "metadata": {},
     "outputs": []
    },
    {
     "cell_type": "code",
     "collapsed": false,
     "input": [
      "# tags cloud collection\n",
      "tag_clouds = flickrapi.FlickrAPI(api_key, api_secret, format=\"parsed-json\")\n"
     ],
     "language": "python",
     "metadata": {},
     "outputs": [],
     "prompt_number": 24
    },
    {
     "cell_type": "code",
     "collapsed": false,
     "input": [
      "https://www.flickr.com/photos/sanu29/16316594486/in/explore-2015-01-22/"
     ],
     "language": "python",
     "metadata": {},
     "outputs": []
    },
    {
     "cell_type": "code",
     "collapsed": false,
     "input": [
      "flickr.tags.getListPhoto(photo_id=)"
     ],
     "language": "python",
     "metadata": {},
     "outputs": [
      {
       "metadata": {},
       "output_type": "pyout",
       "prompt_number": 25,
       "text": [
        "[FlickrAPI for key \"a1d88869dab6eac4056848acd41d0376\"]"
       ]
      }
     ],
     "prompt_number": 25
    },
    {
     "cell_type": "code",
     "collapsed": false,
     "input": [
      "photos[\"photos\"]['photo'][0]"
     ],
     "language": "python",
     "metadata": {},
     "outputs": [
      {
       "metadata": {},
       "output_type": "pyout",
       "prompt_number": 23,
       "text": [
        "{u'farm': 8,\n",
        " u'id': u'16159662787',\n",
        " u'isfamily': 0,\n",
        " u'isfriend': 0,\n",
        " u'ispublic': 1,\n",
        " u'owner': u'30894058@N03',\n",
        " u'secret': u'ec5d8f2e4f',\n",
        " u'server': u'7497',\n",
        " u'title': u'TURDucken'}"
       ]
      }
     ],
     "prompt_number": 23
    },
    {
     "cell_type": "code",
     "collapsed": false,
     "input": [
      "owner = photos[\"photos\"]['photo'][0][\"owner\"]\n",
      "print owner"
     ],
     "language": "python",
     "metadata": {},
     "outputs": [
      {
       "output_type": "stream",
       "stream": "stdout",
       "text": [
        "30894058@N03\n"
       ]
      }
     ],
     "prompt_number": 20
    },
    {
     "cell_type": "code",
     "collapsed": false,
     "input": [
      "pic_id = photos[\"photos\"]['photo'][0][\"id\"]\n",
      "print pic_id"
     ],
     "language": "python",
     "metadata": {},
     "outputs": [
      {
       "output_type": "stream",
       "stream": "stdout",
       "text": [
        "16159662787\n"
       ]
      }
     ],
     "prompt_number": 21
    },
    {
     "cell_type": "code",
     "collapsed": false,
     "input": [
      "domain = \"https://www.flickr.com/photos/\"+owner+\"/\"+pic_id+\"/\"\n"
     ],
     "language": "python",
     "metadata": {},
     "outputs": [],
     "prompt_number": 19
    },
    {
     "cell_type": "code",
     "collapsed": false,
     "input": [
      "https://www.flickr.com/photos/30894058@N03/16159662787/"
     ],
     "language": "python",
     "metadata": {},
     "outputs": []
    },
    {
     "cell_type": "code",
     "collapsed": false,
     "input": [
      "import sax`"
     ],
     "language": "python",
     "metadata": {},
     "outputs": [
      {
       "ename": "ImportError",
       "evalue": "No module named sax",
       "output_type": "pyerr",
       "traceback": [
        "\u001b[0;31m---------------------------------------------------------------------------\u001b[0m\n\u001b[0;31mImportError\u001b[0m                               Traceback (most recent call last)",
        "\u001b[0;32m<ipython-input-7-caab225708f7>\u001b[0m in \u001b[0;36m<module>\u001b[0;34m()\u001b[0m\n\u001b[0;32m----> 1\u001b[0;31m \u001b[0;32mimport\u001b[0m \u001b[0msax\u001b[0m\u001b[0;34m\u001b[0m\u001b[0m\n\u001b[0m",
        "\u001b[0;31mImportError\u001b[0m: No module named sax"
       ]
      }
     ],
     "prompt_number": 7
    },
    {
     "cell_type": "code",
     "collapsed": false,
     "input": [
      "photos[stat]"
     ],
     "language": "python",
     "metadata": {},
     "outputs": [
      {
       "ename": "NameError",
       "evalue": "name 'stat' is not defined",
       "output_type": "pyerr",
       "traceback": [
        "\u001b[0;31m---------------------------------------------------------------------------\u001b[0m\n\u001b[0;31mNameError\u001b[0m                                 Traceback (most recent call last)",
        "\u001b[0;32m<ipython-input-6-06684173b123>\u001b[0m in \u001b[0;36m<module>\u001b[0;34m()\u001b[0m\n\u001b[0;32m----> 1\u001b[0;31m \u001b[0mphotos\u001b[0m\u001b[0;34m[\u001b[0m\u001b[0mstat\u001b[0m\u001b[0;34m]\u001b[0m\u001b[0;34m\u001b[0m\u001b[0m\n\u001b[0m",
        "\u001b[0;31mNameError\u001b[0m: name 'stat' is not defined"
       ]
      }
     ],
     "prompt_number": 6
    },
    {
     "cell_type": "code",
     "collapsed": false,
     "input": [],
     "language": "python",
     "metadata": {},
     "outputs": []
    }
   ],
   "metadata": {}
  }
 ]
}